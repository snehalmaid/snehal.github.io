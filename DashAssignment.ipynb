{
 "cells": [
  {
   "cell_type": "code",
   "execution_count": null,
   "metadata": {},
   "outputs": [
    {
     "name": "stdout",
     "output_type": "stream",
     "text": [
      " * Serving Flask app \"__main__\" (lazy loading)\n",
      " * Environment: production\n",
      "   WARNING: This is a development server. Do not use it in a production deployment.\n",
      "   Use a production WSGI server instead.\n",
      " * Debug mode: off\n"
     ]
    },
    {
     "name": "stderr",
     "output_type": "stream",
     "text": [
      " * Running on http://127.0.0.1:8050/ (Press CTRL+C to quit)\n",
      "127.0.0.1 - - [04/May/2020 19:11:04] \"\u001b[37mGET / HTTP/1.1\u001b[0m\" 200 -\n",
      "127.0.0.1 - - [04/May/2020 19:11:04] \"\u001b[37mGET /_dash-dependencies HTTP/1.1\u001b[0m\" 200 -\n",
      "127.0.0.1 - - [04/May/2020 19:11:04] \"\u001b[37mGET /_dash-layout HTTP/1.1\u001b[0m\" 200 -\n"
     ]
    }
   ],
   "source": [
    "import dash\n",
    "import dash_core_components as dcc\n",
    "import dash_html_components as html\n",
    "import pandas as pd\n",
    "\n",
    "external_stylesheets = ['https://snehalmaid.github.io/snehal.github.io/stylesheet.css']\n",
    "app = dash.Dash(__name__, external_stylesheets=external_stylesheets)\n",
    "\n",
    "url = 'https://raw.githubusercontent.com/snehalmaid/data/master/Payroll.csv'\n",
    "\n",
    "df = pd.read_csv(url)\n",
    "\n",
    "\n",
    "app.layout=html.Div([\n",
    "    html.H1('Payroll Information from the State of Oklahoma'),\n",
    "    html.Div([\n",
    "        html.P('Department wise Payroll Information'),\n",
    "    ]),\n",
    "    html.Div([\n",
    "    html.Table(style={'width':'100%', 'height':'100%'},\n",
    "               children=[\n",
    "                 html.Tr(\n",
    "                     children=[                         \n",
    "                         html.Th(style={'width':'75%'},\n",
    "                             children=[\n",
    "                                 html.H3('1')\n",
    "                             ]\n",
    "                                                  ),\n",
    "                         html.Th(style={'width':'25%'},\n",
    "                             children=[\n",
    "                                 html.H3('2')\n",
    "                             ]\n",
    "                         \n",
    "                         )\n",
    "                         \n",
    "                     ]\n",
    "                 ),\n",
    "\n",
    "                 html.Tr(\n",
    "                     children=[\n",
    "                         html.Td(\n",
    "                             children=[\n",
    "                                    dcc.Graph(\n",
    "                                    id='example-graph',\n",
    "                                    figure={\n",
    "                                        'data': [\n",
    "                                            {'x': df[\"Departments\"], 'y': df[\"Total FY19 payroll\"], 'type': 'bar'},\n",
    "                                        ],\n",
    "                                        'layout': {\n",
    "                                            'title': 'Department wise payroll information'\n",
    "                                        }\n",
    "                                    }\n",
    "                                )\n",
    "                             ]\n",
    "                         \n",
    "                         ),\n",
    "                         html.Td(\n",
    "                             children=[\n",
    "                                 html.H2('In the state of Oklahoma,'),\n",
    "                                 html.H2('Department of Human Services'),\n",
    "                                 html.H2('spent 1.5 times more money on'),\n",
    "                                 html.H2('payroll than all the other departments')\n",
    "                             ]\n",
    "                         )\n",
    "                     ]\n",
    "                 )\n",
    "               ]\n",
    "              )\n",
    "    ])\n",
    "])\n",
    "\n",
    "\n",
    "if __name__ == '__main__':\n",
    "    app.run_server(debug=False)"
   ]
  },
  {
   "cell_type": "code",
   "execution_count": null,
   "metadata": {},
   "outputs": [],
   "source": []
  }
 ],
 "metadata": {
  "kernelspec": {
   "display_name": "Python 3",
   "language": "python",
   "name": "python3"
  }
 },
 "nbformat": 4,
 "nbformat_minor": 2
}
